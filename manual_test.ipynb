{
 "cells": [
  {
   "cell_type": "code",
   "execution_count": 1,
   "id": "21edbbcd-4842-4dca-b49a-27a7428157e2",
   "metadata": {},
   "outputs": [],
   "source": [
    "import pandas as pd\n",
    "\n",
    "df = pd.read_csv(\"data/sales_data.csv\")\n",
    "# Calculate total sales by region\n",
    "total_sales_by_region = df.groupby('Region')['Sales'].sum()\n",
    "\n",
    "# Identify the region with the highest sales\n",
    "region_with_highest_sales = total_sales_by_region.idxmax()\n",
    "highest_sales_value = total_sales_by_region.max()"
   ]
  },
  {
   "cell_type": "code",
   "execution_count": 2,
   "id": "1f9445fe-dae5-4faf-acfa-796b41a65ac9",
   "metadata": {},
   "outputs": [
    {
     "name": "stdout",
     "output_type": "stream",
     "text": [
      "Total sales by region:\n",
      "Region\n",
      "Asia             3379.86\n",
      "Europe           3529.86\n",
      "North America    3064.86\n",
      "Name: Sales, dtype: float64\n",
      "\n",
      "Region with the highest sales:\n",
      "Europe with sales of 3529.86\n"
     ]
    }
   ],
   "source": [
    "# Store the result in a variable\n",
    "result = {\n",
    "    \"total_sales_by_region\": total_sales_by_region,\n",
    "    \"region_with_highest_sales\": region_with_highest_sales,\n",
    "    \"highest_sales_value\": highest_sales_value\n",
    "}\n",
    "\n",
    "# Print the result clearly\n",
    "print(\"Total sales by region:\")\n",
    "print(total_sales_by_region)\n",
    "print(\"\\nRegion with the highest sales:\")\n",
    "print(f\"{region_with_highest_sales} with sales of {highest_sales_value}\")"
   ]
  }
 ],
 "metadata": {
  "kernelspec": {
   "display_name": "Python 3 (ipykernel)",
   "language": "python",
   "name": "python3"
  },
  "language_info": {
   "codemirror_mode": {
    "name": "ipython",
    "version": 3
   },
   "file_extension": ".py",
   "mimetype": "text/x-python",
   "name": "python",
   "nbconvert_exporter": "python",
   "pygments_lexer": "ipython3",
   "version": "3.12.7"
  }
 },
 "nbformat": 4,
 "nbformat_minor": 5
}
